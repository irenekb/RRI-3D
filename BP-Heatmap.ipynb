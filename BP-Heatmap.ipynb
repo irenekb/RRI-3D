{
 "cells": [
  {
   "cell_type": "code",
   "execution_count": 1,
   "metadata": {},
   "outputs": [],
   "source": [
    "%matplotlib tk\n",
    "#%matplotlib inline\n",
    "import matplotlib.pyplot as plt\n",
    "import pandas as pd\n",
    "import numpy as np\n",
    "import warnings\n",
    "import glob, os\n",
    "import seaborn as sns\n",
    "import matplotlib.ticker as plticker\n",
    "import io\n",
    "warnings.simplefilter(\"ignore\")\n",
    "plt.rcParams['figure.figsize'] = [15, 5]"
   ]
  },
  {
   "cell_type": "code",
   "execution_count": 2,
   "metadata": {},
   "outputs": [
    {
     "name": "stdout",
     "output_type": "stream",
     "text": [
      "    nr  bp1  bp2      count\n",
      "0    0    2   51  365000284\n",
      "1    1   64   93  442902131\n",
      "2    2   69   89  356210306\n",
      "3    3   17   36   80717624\n",
      "4    4   17   35  422763352\n",
      "..  ..  ...  ...        ...\n",
      "76  76   16   37  167086335\n",
      "77  77    0   53  384827230\n",
      "78  78   14   38   33278128\n",
      "79  79   25   80  446883494\n",
      "80  80   70   87     346079\n",
      "\n",
      "[81 rows x 4 columns]\n"
     ]
    }
   ],
   "source": [
    "#Load al Files, sort them and put them into dataframes\n",
    "\n",
    "df001_surface = pd.read_csv('SimRNA_output/CopStems_surface_00_01.csv_bp',sep=\"\\t\",skiprows=[i for i in range(1,3)])\n",
    "df002_surface = pd.read_csv('SimRNA_output/CopStems_surface_00_02.csv_bp',sep=\"\\t\",skiprows=[i for i in range(1,3)])\n",
    "df003_surface = pd.read_csv('SimRNA_output/CopStems_surface_00_03.csv_bp',sep=\"\\t\",skiprows=[i for i in range(1,3)])\n",
    "df004_surface = pd.read_csv('SimRNA_output/CopStems_surface_00_04.csv_bp',sep=\"\\t\",skiprows=[i for i in range(1,3)])\n",
    "df005_surface = pd.read_csv('SimRNA_output/CopStems_surface_00_05.csv_bp',sep=\"\\t\",skiprows=[i for i in range(1,3)])\n",
    "df006_surface = pd.read_csv('SimRNA_output/CopStems_surface_00_06.csv_bp',sep=\"\\t\",skiprows=[i for i in range(1,3)])\n",
    "df007_surface = pd.read_csv('SimRNA_output/CopStems_surface_00_07.csv_bp',sep=\"\\t\",skiprows=[i for i in range(1,3)])\n",
    "df008_surface = pd.read_csv('SimRNA_output/CopStems_surface_00_08.csv_bp',sep=\"\\t\",skiprows=[i for i in range(1,3)])\n",
    "df009_surface = pd.read_csv('SimRNA_output/CopStems_surface_00_09.csv_bp',sep=\"\\t\",skiprows=[i for i in range(1,3)])\n",
    "df010_surface = pd.read_csv('SimRNA_output/CopStems_surface_00_10.csv_bp',sep=\"\\t\",skiprows=[i for i in range(1,3)])\n",
    "dfint0_surface = pd.read_csv('SimRNA_output/CopStems_surface_00.csv_bp',sep=\"\\t\")\n",
    "print (dfint0_surface)"
   ]
  },
  {
   "cell_type": "code",
   "execution_count": 3,
   "metadata": {},
   "outputs": [],
   "source": [
    "df101_expand = pd.read_csv('SimRNA_output/CopStems_expand_01_01.csv_bp',sep=\"\\t\",skiprows=[i for i in range(1,3)])\n",
    "df102_expand = pd.read_csv('SimRNA_output/CopStems_expand_01_02.csv_bp',sep=\"\\t\",skiprows=[i for i in range(1,3)])\n",
    "df103_expand = pd.read_csv('SimRNA_output/CopStems_expand_01_03.csv_bp',sep=\"\\t\",skiprows=[i for i in range(1,3)])\n",
    "df104_expand = pd.read_csv('SimRNA_output/CopStems_expand_01_04.csv_bp',sep=\"\\t\",skiprows=[i for i in range(1,3)])\n",
    "df105_expand = pd.read_csv('SimRNA_output/CopStems_expand_01_05.csv_bp',sep=\"\\t\",skiprows=[i for i in range(1,3)])\n",
    "df106_expand = pd.read_csv('SimRNA_output/CopStems_expand_01_06.csv_bp',sep=\"\\t\",skiprows=[i for i in range(1,3)])\n",
    "df107_expand = pd.read_csv('SimRNA_output/CopStems_expand_01_07.csv_bp',sep=\"\\t\",skiprows=[i for i in range(1,3)])\n",
    "df108_expand = pd.read_csv('SimRNA_output/CopStems_expand_01_08.csv_bp',sep=\"\\t\",skiprows=[i for i in range(1,3)])\n",
    "df109_expand = pd.read_csv('SimRNA_output/CopStems_expand_01_09.csv_bp',sep=\"\\t\",skiprows=[i for i in range(1,3)])\n",
    "df110_expand = pd.read_csv('SimRNA_output/CopStems_expand_01_10.csv_bp',sep=\"\\t\",skiprows=[i for i in range(1,3)])\n",
    "dfint1_expand = pd.read_csv('SimRNA_output/CopStems_expand_01.csv_bp',sep=\"\\t\")"
   ]
  },
  {
   "cell_type": "code",
   "execution_count": 4,
   "metadata": {},
   "outputs": [],
   "source": [
    "df101_expand00 = pd.read_csv('SimRNA_output/CopStems_expand_long00_01_01.csv_bp',sep=\"\\t\",skiprows=[i for i in range(1,3)])\n",
    "df102_expand00 = pd.read_csv('SimRNA_output/CopStems_expand_long00_01_02.csv_bp',sep=\"\\t\",skiprows=[i for i in range(1,3)])\n",
    "df103_expand00 = pd.read_csv('SimRNA_output/CopStems_expand_long00_01_03.csv_bp',sep=\"\\t\",skiprows=[i for i in range(1,3)])\n",
    "df104_expand00 = pd.read_csv('SimRNA_output/CopStems_expand_long00_01_04.csv_bp',sep=\"\\t\",skiprows=[i for i in range(1,3)])\n",
    "df105_expand00 = pd.read_csv('SimRNA_output/CopStems_expand_long00_01_05.csv_bp',sep=\"\\t\",skiprows=[i for i in range(1,3)])\n",
    "df106_expand00 = pd.read_csv('SimRNA_output/CopStems_expand_long00_01_06.csv_bp',sep=\"\\t\",skiprows=[i for i in range(1,3)])\n",
    "df107_expand00 = pd.read_csv('SimRNA_output/CopStems_expand_long00_01_07.csv_bp',sep=\"\\t\",skiprows=[i for i in range(1,3)])\n",
    "df108_expand00 = pd.read_csv('SimRNA_output/CopStems_expand_long00_01_08.csv_bp',sep=\"\\t\",skiprows=[i for i in range(1,3)])\n",
    "df109_expand00 = pd.read_csv('SimRNA_output/CopStems_expand_long00_01_09.csv_bp',sep=\"\\t\",skiprows=[i for i in range(1,3)])\n",
    "df110_expand00 = pd.read_csv('SimRNA_output/CopStems_expand_long00_01_10.csv_bp',sep=\"\\t\",skiprows=[i for i in range(1,3)])\n",
    "dfint1_expand00 = pd.read_csv('SimRNA_output/CopStems_expand_long00_01.csv_bp',sep=\"\\t\")"
   ]
  },
  {
   "cell_type": "code",
   "execution_count": 5,
   "metadata": {},
   "outputs": [],
   "source": [
    "df101_expandsurface = pd.read_csv('SimRNA_output/CopStems_expand_surface_01_01.csv_bp',sep=\"\\t\",skiprows=[i for i in range(1,3)])\n",
    "df102_expandsurface = pd.read_csv('SimRNA_output/CopStems_expand_surface_01_02.csv_bp',sep=\"\\t\",skiprows=[i for i in range(1,3)])\n",
    "df103_expandsurface = pd.read_csv('SimRNA_output/CopStems_expand_surface_01_03.csv_bp',sep=\"\\t\",skiprows=[i for i in range(1,3)])\n",
    "df104_expandsurface = pd.read_csv('SimRNA_output/CopStems_expand_surface_01_04.csv_bp',sep=\"\\t\",skiprows=[i for i in range(1,3)])\n",
    "df105_expandsurface = pd.read_csv('SimRNA_output/CopStems_expand_surface_01_05.csv_bp',sep=\"\\t\",skiprows=[i for i in range(1,3)])\n",
    "df106_expandsurface = pd.read_csv('SimRNA_output/CopStems_expand_surface_01_06.csv_bp',sep=\"\\t\",skiprows=[i for i in range(1,3)])\n",
    "df107_expandsurface = pd.read_csv('SimRNA_output/CopStems_expand_surface_01_07.csv_bp',sep=\"\\t\",skiprows=[i for i in range(1,3)])\n",
    "df108_expandsurface = pd.read_csv('SimRNA_output/CopStems_expand_surface_01_08.csv_bp',sep=\"\\t\",skiprows=[i for i in range(1,3)])\n",
    "df109_expandsurface = pd.read_csv('SimRNA_output/CopStems_expand_surface_01_09.csv_bp',sep=\"\\t\",skiprows=[i for i in range(1,3)])\n",
    "df110_expandsurface = pd.read_csv('SimRNA_output/CopStems_expand_surface_01_10.csv_bp',sep=\"\\t\",skiprows=[i for i in range(1,3)])\n",
    "dfint1_expandsurface = pd.read_csv('SimRNA_output/CopStems_expand_surface_01.csv_bp',sep=\"\\t\")"
   ]
  },
  {
   "cell_type": "code",
   "execution_count": 6,
   "metadata": {},
   "outputs": [],
   "source": [
    "df201_expand = pd.read_csv('SimRNA_output/CopStems_expand_02_01.csv_bp',sep=\"\\t\",skiprows=[i for i in range(1,3)])\n",
    "df202_expand = pd.read_csv('SimRNA_output/CopStems_expand_02_02.csv_bp',sep=\"\\t\",skiprows=[i for i in range(1,3)])\n",
    "df203_expand = pd.read_csv('SimRNA_output/CopStems_expand_02_03.csv_bp',sep=\"\\t\",skiprows=[i for i in range(1,3)])\n",
    "df204_expand = pd.read_csv('SimRNA_output/CopStems_expand_02_04.csv_bp',sep=\"\\t\",skiprows=[i for i in range(1,3)])\n",
    "df205_expand = pd.read_csv('SimRNA_output/CopStems_expand_02_05.csv_bp',sep=\"\\t\",skiprows=[i for i in range(1,3)])\n",
    "df206_expand = pd.read_csv('SimRNA_output/CopStems_expand_02_06.csv_bp',sep=\"\\t\",skiprows=[i for i in range(1,3)])\n",
    "df207_expand = pd.read_csv('SimRNA_output/CopStems_expand_02_07.csv_bp',sep=\"\\t\",skiprows=[i for i in range(1,3)])\n",
    "df208_expand = pd.read_csv('SimRNA_output/CopStems_expand_02_08.csv_bp',sep=\"\\t\",skiprows=[i for i in range(1,3)])\n",
    "df209_expand = pd.read_csv('SimRNA_output/CopStems_expand_02_09.csv_bp',sep=\"\\t\",skiprows=[i for i in range(1,3)])\n",
    "df210_expand = pd.read_csv('SimRNA_output/CopStems_expand_02_10.csv_bp',sep=\"\\t\",skiprows=[i for i in range(1,3)])\n",
    "dfint2_expand = pd.read_csv('SimRNA_output/CopStems_expand_02.csv_bp',sep=\"\\t\")"
   ]
  },
  {
   "cell_type": "code",
   "execution_count": 7,
   "metadata": {},
   "outputs": [],
   "source": [
    "df201_expand00 = pd.read_csv('SimRNA_output/CopStems_expand_long00_02_01.csv_bp',sep=\"\\t\",skiprows=[i for i in range(1,3)])\n",
    "df202_expand00 = pd.read_csv('SimRNA_output/CopStems_expand_long00_02_02.csv_bp',sep=\"\\t\",skiprows=[i for i in range(1,3)])\n",
    "df203_expand00 = pd.read_csv('SimRNA_output/CopStems_expand_long00_02_03.csv_bp',sep=\"\\t\",skiprows=[i for i in range(1,3)])\n",
    "df204_expand00 = pd.read_csv('SimRNA_output/CopStems_expand_long00_02_04.csv_bp',sep=\"\\t\",skiprows=[i for i in range(1,3)])\n",
    "df205_expand00 = pd.read_csv('SimRNA_output/CopStems_expand_long00_02_05.csv_bp',sep=\"\\t\",skiprows=[i for i in range(1,3)])\n",
    "df206_expand00 = pd.read_csv('SimRNA_output/CopStems_expand_long00_02_06.csv_bp',sep=\"\\t\",skiprows=[i for i in range(1,3)])\n",
    "df207_expand00 = pd.read_csv('SimRNA_output/CopStems_expand_long00_02_07.csv_bp',sep=\"\\t\",skiprows=[i for i in range(1,3)])\n",
    "df208_expand00 = pd.read_csv('SimRNA_output/CopStems_expand_long00_02_08.csv_bp',sep=\"\\t\",skiprows=[i for i in range(1,3)])\n",
    "df209_expand00 = pd.read_csv('SimRNA_output/CopStems_expand_long00_02_09.csv_bp',sep=\"\\t\",skiprows=[i for i in range(1,3)])\n",
    "df210_expand00 = pd.read_csv('SimRNA_output/CopStems_expand_long00_02_10.csv_bp',sep=\"\\t\",skiprows=[i for i in range(1,3)])\n",
    "dfint2_expand00 = pd.read_csv('SimRNA_output/CopStems_expand_long00_01.csv_bp',sep=\"\\t\")"
   ]
  },
  {
   "cell_type": "code",
   "execution_count": 8,
   "metadata": {},
   "outputs": [],
   "source": [
    "dfint2_expand00 = pd.read_csv('SimRNA_output/CopStems_expand_long00_02.interaction-csv',sep=\"\\t\")\n",
    "df201_expandsurface = pd.read_csv('SimRNA_output/CopStems_expand_surface_02_01.csv_bp',sep=\"\\t\",skiprows=[i for i in range(1,3)])\n",
    "df202_expandsurface = pd.read_csv('SimRNA_output/CopStems_expand_surface_02_02.csv_bp',sep=\"\\t\",skiprows=[i for i in range(1,3)])\n",
    "df203_expandsurface = pd.read_csv('SimRNA_output/CopStems_expand_surface_02_03.csv_bp',sep=\"\\t\",skiprows=[i for i in range(1,3)])\n",
    "df204_expandsurface = pd.read_csv('SimRNA_output/CopStems_expand_surface_02_04.csv_bp',sep=\"\\t\",skiprows=[i for i in range(1,3)])\n",
    "df205_expandsurface = pd.read_csv('SimRNA_output/CopStems_expand_surface_02_05.csv_bp',sep=\"\\t\",skiprows=[i for i in range(1,3)])\n",
    "df206_expandsurface = pd.read_csv('SimRNA_output/CopStems_expand_surface_02_06.csv_bp',sep=\"\\t\",skiprows=[i for i in range(1,3)])\n",
    "df207_expandsurface = pd.read_csv('SimRNA_output/CopStems_expand_surface_02_07.csv_bp',sep=\"\\t\",skiprows=[i for i in range(1,3)])\n",
    "df208_expandsurface = pd.read_csv('SimRNA_output/CopStems_expand_surface_02_08.csv_bp',sep=\"\\t\",skiprows=[i for i in range(1,3)])\n",
    "df209_expandsurface = pd.read_csv('SimRNA_output/CopStems_expand_surface_02_09.csv_bp',sep=\"\\t\",skiprows=[i for i in range(1,3)])\n",
    "df210_expandsurface = pd.read_csv('SimRNA_output/CopStems_expand_surface_02_10.csv_bp',sep=\"\\t\",skiprows=[i for i in range(1,3)])\n",
    "dfint2_expandsurface = pd.read_csv('SimRNA_output/CopStems_expand_surface_02.csv_bp',sep=\"\\t\")"
   ]
  },
  {
   "cell_type": "code",
   "execution_count": 9,
   "metadata": {},
   "outputs": [],
   "source": [
    "df301_expand = pd.read_csv('SimRNA_output/CopStems_expand_03_01.csv_bp',sep=\"\\t\",skiprows=[i for i in range(1,3)])\n",
    "df302_expand = pd.read_csv('SimRNA_output/CopStems_expand_03_02.csv_bp',sep=\"\\t\",skiprows=[i for i in range(1,3)])\n",
    "df303_expand = pd.read_csv('SimRNA_output/CopStems_expand_03_03.csv_bp',sep=\"\\t\",skiprows=[i for i in range(1,3)])\n",
    "df304_expand = pd.read_csv('SimRNA_output/CopStems_expand_03_04.csv_bp',sep=\"\\t\",skiprows=[i for i in range(1,3)])\n",
    "df305_expand = pd.read_csv('SimRNA_output/CopStems_expand_03_05.csv_bp',sep=\"\\t\",skiprows=[i for i in range(1,3)])\n",
    "df306_expand = pd.read_csv('SimRNA_output/CopStems_expand_03_06.csv_bp',sep=\"\\t\",skiprows=[i for i in range(1,3)])\n",
    "df307_expand = pd.read_csv('SimRNA_output/CopStems_expand_03_07.csv_bp',sep=\"\\t\",skiprows=[i for i in range(1,3)])\n",
    "df308_expand = pd.read_csv('SimRNA_output/CopStems_expand_03_08.csv_bp',sep=\"\\t\",skiprows=[i for i in range(1,3)])\n",
    "df309_expand = pd.read_csv('SimRNA_output/CopStems_expand_03_09.csv_bp',sep=\"\\t\",skiprows=[i for i in range(1,3)])\n",
    "df310_expand = pd.read_csv('SimRNA_output/CopStems_expand_03_10.csv_bp',sep=\"\\t\",skiprows=[i for i in range(1,3)])\n",
    "dfint3_expand = pd.read_csv('SimRNA_output/CopStems_expand_03.interaction-csv',sep=\"\\t\")"
   ]
  },
  {
   "cell_type": "code",
   "execution_count": 10,
   "metadata": {},
   "outputs": [],
   "source": [
    "df301_expand00 = pd.read_csv('SimRNA_output/CopStems_expand_long00_03_01.csv_bp',sep=\"\\t\",skiprows=[i for i in range(1,3)])\n",
    "df302_expand00 = pd.read_csv('SimRNA_output/CopStems_expand_long00_03_02.csv_bp',sep=\"\\t\",skiprows=[i for i in range(1,3)])\n",
    "df303_expand00 = pd.read_csv('SimRNA_output/CopStems_expand_long00_03_03.csv_bp',sep=\"\\t\",skiprows=[i for i in range(1,3)])\n",
    "df304_expand00 = pd.read_csv('SimRNA_output/CopStems_expand_long00_03_04.csv_bp',sep=\"\\t\",skiprows=[i for i in range(1,3)])\n",
    "df305_expand00 = pd.read_csv('SimRNA_output/CopStems_expand_long00_03_05.csv_bp',sep=\"\\t\",skiprows=[i for i in range(1,3)])\n",
    "df306_expand00 = pd.read_csv('SimRNA_output/CopStems_expand_long00_03_06.csv_bp',sep=\"\\t\",skiprows=[i for i in range(1,3)])\n",
    "df307_expand00 = pd.read_csv('SimRNA_output/CopStems_expand_long00_03_07.csv_bp',sep=\"\\t\",skiprows=[i for i in range(1,3)])\n",
    "df308_expand00 = pd.read_csv('SimRNA_output/CopStems_expand_long00_03_08.csv_bp',sep=\"\\t\",skiprows=[i for i in range(1,3)])\n",
    "df309_expand00 = pd.read_csv('SimRNA_output/CopStems_expand_long00_03_09.csv_bp',sep=\"\\t\",skiprows=[i for i in range(1,3)])\n",
    "df310_expand00 = pd.read_csv('SimRNA_output/CopStems_expand_long00_03_10.csv_bp',sep=\"\\t\",skiprows=[i for i in range(1,3)])\n",
    "dfint3_expand00 = pd.read_csv('SimRNA_output/CopStems_expand_long00_03.csv_bp',sep=\"\\t\")"
   ]
  },
  {
   "cell_type": "code",
   "execution_count": 11,
   "metadata": {},
   "outputs": [],
   "source": [
    "df301_expandsurface = pd.read_csv('SimRNA_output/CopStems_expand_surface_03_01.csv_bp',sep=\"\\t\",skiprows=[i for i in range(1,3)])\n",
    "df302_expandsurface = pd.read_csv('SimRNA_output/CopStems_expand_surface_03_02.csv_bp',sep=\"\\t\",skiprows=[i for i in range(1,3)])\n",
    "df303_expandsurface = pd.read_csv('SimRNA_output/CopStems_expand_surface_03_03.csv_bp',sep=\"\\t\",skiprows=[i for i in range(1,3)])\n",
    "df304_expandsurface = pd.read_csv('SimRNA_output/CopStems_expand_surface_03_04.csv_bp',sep=\"\\t\",skiprows=[i for i in range(1,3)])\n",
    "df305_expandsurface = pd.read_csv('SimRNA_output/CopStems_expand_surface_03_05.csv_bp',sep=\"\\t\",skiprows=[i for i in range(1,3)])\n",
    "df306_expandsurface = pd.read_csv('SimRNA_output/CopStems_expand_surface_03_06.csv_bp',sep=\"\\t\",skiprows=[i for i in range(1,3)])\n",
    "df307_expandsurface = pd.read_csv('SimRNA_output/CopStems_expand_surface_03_07.csv_bp',sep=\"\\t\",skiprows=[i for i in range(1,3)])\n",
    "df308_expandsurface = pd.read_csv('SimRNA_output/CopStems_expand_surface_03_08.csv_bp',sep=\"\\t\",skiprows=[i for i in range(1,3)])\n",
    "df309_expandsurface = pd.read_csv('SimRNA_output/CopStems_expand_surface_03_09.csv_bp',sep=\"\\t\",skiprows=[i for i in range(1,3)])\n",
    "df310_expandsurface = pd.read_csv('SimRNA_output/CopStems_expand_surface_03_10.csv_bp',sep=\"\\t\",skiprows=[i for i in range(1,3)])\n",
    "dfint3_expandsurface = pd.read_csv('SimRNA_output/CopStems_expand_surface_03.csv_bp',sep=\"\\t\")"
   ]
  },
  {
   "cell_type": "code",
   "execution_count": 12,
   "metadata": {},
   "outputs": [],
   "source": [
    "df301_expandheavy = pd.read_csv('SimRNA_output/CopStemsHeavy_expand_03_01.csv_bp',sep=\"\\t\",skiprows=[i for i in range(1,3)])\n",
    "df302_expandheavy = pd.read_csv('SimRNA_output/CopStemsHeavy_expand_03_02.csv_bp',sep=\"\\t\",skiprows=[i for i in range(1,3)])\n",
    "df303_expandheavy = pd.read_csv('SimRNA_output/CopStemsHeavy_expand_03_03.csv_bp',sep=\"\\t\",skiprows=[i for i in range(1,3)])\n",
    "df304_expandheavy = pd.read_csv('SimRNA_output/CopStemsHeavy_expand_03_04.csv_bp',sep=\"\\t\",skiprows=[i for i in range(1,3)])\n",
    "df305_expandheavy = pd.read_csv('SimRNA_output/CopStemsHeavy_expand_03_05.csv_bp',sep=\"\\t\",skiprows=[i for i in range(1,3)])\n",
    "df306_expandheavy = pd.read_csv('SimRNA_output/CopStemsHeavy_expand_03_06.csv_bp',sep=\"\\t\",skiprows=[i for i in range(1,3)])\n",
    "df307_expandheavy = pd.read_csv('SimRNA_output/CopStemsHeavy_expand_03_07.csv_bp',sep=\"\\t\",skiprows=[i for i in range(1,3)])\n",
    "df308_expandheavy = pd.read_csv('SimRNA_output/CopStemsHeavy_expand_03_08.csv_bp',sep=\"\\t\",skiprows=[i for i in range(1,3)])\n",
    "df309_expandheavy = pd.read_csv('SimRNA_output/CopStemsHeavy_expand_03_09.csv_bp',sep=\"\\t\",skiprows=[i for i in range(1,3)])\n",
    "df310_expandheavy = pd.read_csv('SimRNA_output/CopStemsHeavy_expand_03_10.csv_bp',sep=\"\\t\",skiprows=[i for i in range(1,3)])\n",
    "dfint3_expandheavy = pd.read_csv('SimRNA_output/CopStemsHeavy_expand_03.csv_bp',sep=\"\\t\")"
   ]
  },
  {
   "cell_type": "code",
   "execution_count": 13,
   "metadata": {},
   "outputs": [],
   "source": [
    "df01_8bp = pd.read_csv('SimRNA_output/CopStems8bp_surface_04_01.csv_bp',sep=\"\\t\",skiprows=[i for i in range(1,3)])\n",
    "df02_8bp = pd.read_csv('SimRNA_output/CopStems8bp_surface_04_02.csv_bp',sep=\"\\t\",skiprows=[i for i in range(1,3)])\n",
    "df03_8bp = pd.read_csv('SimRNA_output/CopStems8bp_surface_04_03.csv_bp',sep=\"\\t\",skiprows=[i for i in range(1,3)])\n",
    "df04_8bp = pd.read_csv('SimRNA_output/CopStems8bp_surface_04_04.csv_bp',sep=\"\\t\",skiprows=[i for i in range(1,3)])\n",
    "df05_8bp = pd.read_csv('SimRNA_output/CopStems8bp_surface_04_05.csv_bp',sep=\"\\t\",skiprows=[i for i in range(1,3)])\n",
    "df06_8bp = pd.read_csv('SimRNA_output/CopStems8bp_surface_04_06.csv_bp',sep=\"\\t\",skiprows=[i for i in range(1,3)])\n",
    "df07_8bp = pd.read_csv('SimRNA_output/CopStems8bp_surface_04_07.csv_bp',sep=\"\\t\",skiprows=[i for i in range(1,3)])\n",
    "df08_8bp = pd.read_csv('SimRNA_output/CopStems8bp_surface_04_08.csv_bp',sep=\"\\t\",skiprows=[i for i in range(1,3)])\n",
    "df09_8bp = pd.read_csv('SimRNA_output/CopStems8bp_surface_04_09.csv_bp',sep=\"\\t\",skiprows=[i for i in range(1,3)])\n",
    "df10_8bp = pd.read_csv('SimRNA_output/CopStems8bp_surface_04_10.csv_bp',sep=\"\\t\",skiprows=[i for i in range(1,3)])\n",
    "dfint_8bp = pd.read_csv('SimRNA_output/CopStems8bp_surface_04.csv_bp',sep=\"\\t\")"
   ]
  },
  {
   "cell_type": "code",
   "execution_count": 14,
   "metadata": {},
   "outputs": [
    {
     "name": "stdout",
     "output_type": "stream",
     "text": [
      "[[  0.   0.   0. ...   0.   0.   0.]\n",
      " [  0.   0. 230. ...   0.   0.   0.]\n",
      " [  0. 216.   0. ...   0.   0.   0.]\n",
      " ...\n",
      " [  0.   0.   0. ...   0.   0.   0.]\n",
      " [  0.   0.   0. ...   0.   0.   0.]\n",
      " [  0.   0.   0. ...   0.   0.   0.]]\n"
     ]
    }
   ],
   "source": [
    "bp8 = np.zeros(shape=(103,103))\n",
    "\n",
    "for index, row in dfint_8bp.iterrows():\n",
    "    bp8[row['bp1'],row['bp2']]= row['count']\n",
    "\n",
    "print(bp8)"
   ]
  },
  {
   "cell_type": "code",
   "execution_count": 60,
   "metadata": {},
   "outputs": [
    {
     "name": "stdout",
     "output_type": "stream",
     "text": [
      "Chainbreak: 54\n"
     ]
    }
   ],
   "source": [
    "seq= str('GGGCCCCGGUAAUCUUUUCGUACUCGCCAAAGUUGAAGAAGAUUAUCGGGGUUU CCCCGAUAAUCUUCUUCAACUUUGGCGAGUACGAAAAGAUUACCGGGG')\n",
    "slist =list(seq)\n",
    "chainbreak = seq.index(\" \")\n",
    "print ('Chainbreak: {}'.format(chainbreak))\n",
    "\n",
    "ax = dfint0_surface.plot.hexbin(x='bp1',y='bp2', C='count', alpha=1,  gridsize=70, cmap=\"viridis\")\n",
    "  \n",
    "xticklabels = slist\n",
    "ax.set_xticks(np.arange(len(slist)))\n",
    "ax.set_xticklabels(xticklabels)\n",
    "\n",
    "yticklabels = slist\n",
    "ax.set_yticks(np.arange(len(slist)))\n",
    "ax.set_yticklabels(xticklabels)\n",
    "\n",
    "ax.grid(axis='both',color='grey',linestyle='-', linewidth=0.5, alpha=0.2)\n",
    "\n",
    "ax.set_aspect(\"equal\")\n",
    "ax.set_title(\"gridsize=100\")\n",
    "ax.axvline(x=chainbreak)\n",
    "ax.axhline(y=chainbreak)\n",
    "\n",
    "plt.show()"
   ]
  },
  {
   "cell_type": "code",
   "execution_count": null,
   "metadata": {},
   "outputs": [],
   "source": [
    "#Set \n",
    "major_ticks = np.arange(1, len(slist), 10)\n",
    "ax.set_xticks(major_ticks)\n",
    "ax.set_yticks(major_ticks)\n",
    "\n",
    "minor_ticks = np.arange(1,len(slist), 1)\n",
    "ax.set_xticks(minor_ticks)\n",
    "ax.set_yticks(minor_ticks)\n",
    "\n",
    "    \n",
    "xticklabels = slist\n",
    "#ax.set_xticks(np.arange(len(slist)))\n",
    "ax.set_xticklabels(xticklabels)\n",
    "\n",
    "yticklabels = slist\n",
    "\n",
    "#ax.set_yticks(np.arange(len(slist)))\n",
    "ax.set_yticklabels(xticklabels)\n",
    "\n",
    "ax.grid(which='minor',axis='both',color='grey',linestyle='--', linewidth=0.5, alpha=0.2)\n",
    "ax.grid(which='major',axis='both',color='grey',linestyle='-', linewidth=0.5, alpha=0.5)\n",
    "\n",
    "\n"
   ]
  },
  {
   "cell_type": "code",
   "execution_count": 16,
   "metadata": {},
   "outputs": [
    {
     "data": {
      "text/plain": [
       "\"\\ndf = pd.read_clipboard()\\ntable = dfint0_surface.pivot('bp1', 'bp2', 'count')\\nax = sns.heatmap(table)\\nax.invert_yaxis()\\nprint(table)\\nplt.show()\\n\""
      ]
     },
     "execution_count": 16,
     "metadata": {},
     "output_type": "execute_result"
    }
   ],
   "source": [
    "\n",
    "'''\n",
    "fig, (ax, ax2) = plt.subplots(nrows=2)\n",
    "\n",
    "#h1 = ax.hexbin(dfint_8bp.bp1, dfint_8bp.bp2, C=dfint_8bp.count, gridsize=100, cmap=\"copper\")\n",
    "#h2 = ax2.hexbin(dfint_8bp.bp1, dfint_8bp.bp2, C=dfint_8bp.count, gridsize=10, cmap=\"copper\")\n",
    "\n",
    "fig.colorbar(ax, ax=ax)\n",
    "fig.colorbar(ax2, ax=ax2)\n",
    "ax.set_aspect(\"equal\")\n",
    "ax2.set_aspect(\"equal\")\n",
    "ax.set_title(\"gridsize=100\")\n",
    "ax2.set_title(\"gridsize=10\")\n",
    "fig.subplots_adjust(hspace=0.3)\n",
    "'''\n",
    "'''\n",
    "fig, ax = plt.subplots()\n",
    "sc = ax.scatter(dfint_8bp.bp1, dfint_8bp.bp2, c=dfint_8bp.count,  cmap=\"copper\")\n",
    "h1 = ax.hexbin(df.v1, df.v2, C=df.yy, gridsize=100, cmap=\"copper\")\n",
    "fig.colorbar(sc, ax=ax)\n",
    "ax.set_aspect(\"equal\")\n",
    "\n",
    "ax.scatter()\n",
    "\n",
    "ax = plt.gca(dfint_8bp.bp1, dfint_8bp.bp2, dfint_8bp.count, cmap=\"copper\")\n",
    "\n",
    "\n",
    "ax1 = dfint_8bp.plot.scatter(x='bp1',y='bp2', c='count', alpha=1, color='cornflowerblue', ax=ax, label='00', cmap='copper')\n",
    "ax1.set_xlabel('Interaction length', fontdict=None, labelpad=None)\n",
    "ax1.set_ylabel('Energy', fontdict=None, labelpad=None)\n",
    "ax.get_legend().remove()\n",
    "plt.show()\n",
    "'''\n",
    "'''\n",
    "symbol = ((np.asarray(dfint_8bp['nr'])).reshape(103,103))\n",
    "perchange = ((np.asarray(dfint_8bp[])))\n",
    "\n",
    "corr = np.corrcoef(np.random.randn(10, 200))\n",
    "mask = np.zeros_like(corr)\n",
    "mask[np.triu_indices_from(mask)] = True\n",
    "with sns.axes_style(\"white\"):\n",
    "    ax = sns.heatmap(corr, mask=mask, vmax=.3, square=True,  cmap=\"YlGnBu\")\n",
    "    plt.show()\n",
    "\n",
    "'''\n",
    "'''\n",
    "corr = np.corrcoef(np.random.randn(10, 200))\n",
    "mask = np.zeros_like(corr)\n",
    "mask[np.triu_indices_from(mask)] = True\n",
    "with sns.axes_style(\"white\"):\n",
    "    ax = sns.heatmap(corr, mask=mask, vmax=.3, square=True,  cmap=\"YlGnBu\")\n",
    "    plt.show()\n",
    "'''\n",
    "'''\n",
    "df = pd.read_clipboard()\n",
    "table = dfint0_surface.pivot('bp1', 'bp2', 'count')\n",
    "ax = sns.heatmap(table)\n",
    "ax.invert_yaxis()\n",
    "print(table)\n",
    "plt.show()\n",
    "'''"
   ]
  }
 ],
 "metadata": {
  "kernelspec": {
   "display_name": "Python 3",
   "language": "python",
   "name": "python3"
  },
  "language_info": {
   "codemirror_mode": {
    "name": "ipython",
    "version": 3
   },
   "file_extension": ".py",
   "mimetype": "text/x-python",
   "name": "python",
   "nbconvert_exporter": "python",
   "pygments_lexer": "ipython3",
   "version": "3.7.9"
  }
 },
 "nbformat": 4,
 "nbformat_minor": 2
}
